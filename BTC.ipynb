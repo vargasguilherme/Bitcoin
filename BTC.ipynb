{
  "nbformat": 4,
  "nbformat_minor": 0,
  "metadata": {
    "colab": {
      "provenance": [],
      "authorship_tag": "ABX9TyM8JFAvmOVyyaZ6fiIgr+gb",
      "include_colab_link": true
    },
    "kernelspec": {
      "name": "python3",
      "display_name": "Python 3"
    },
    "language_info": {
      "name": "python"
    }
  },
  "cells": [
    {
      "cell_type": "markdown",
      "metadata": {
        "id": "view-in-github",
        "colab_type": "text"
      },
      "source": [
        "<a href=\"https://colab.research.google.com/github/vargasguilherme/Bitcoin/blob/main/BTC.ipynb\" target=\"_parent\"><img src=\"https://colab.research.google.com/assets/colab-badge.svg\" alt=\"Open In Colab\"/></a>"
      ]
    },
    {
      "cell_type": "code",
      "execution_count": 1,
      "metadata": {
        "colab": {
          "base_uri": "https://localhost:8080/"
        },
        "id": "lfXKN3RjpJDV",
        "outputId": "bd2a4f4e-80f4-4cc7-ba25-6189747282ce"
      },
      "outputs": [
        {
          "output_type": "stream",
          "name": "stderr",
          "text": [
            "/usr/local/lib/python3.10/dist-packages/yfinance/base.py:48: FutureWarning: The default dtype for empty Series will be 'object' instead of 'float64' in a future version. Specify a dtype explicitly to silence this warning.\n",
            "  _empty_series = pd.Series()\n"
          ]
        },
        {
          "output_type": "stream",
          "name": "stdout",
          "text": [
            "RMSE: 9106.445511168182\n",
            "Best day to buy: 0\n",
            "Predicted price on the best day to buy: 29028.558164491606\n"
          ]
        }
      ],
      "source": [
        "import yfinance as yf\n",
        "import matplotlib.pyplot as plt\n",
        "from statsmodels.tsa.arima.model import ARIMA\n",
        "import numpy as np\n",
        "import pandas as pd\n",
        "\n",
        "# Fetch historical market data for Bitcoin\n",
        "btc = yf.Ticker('BTC-USD')\n",
        "history = btc.history(period='5y')\n",
        "\n",
        "# Prepare the data\n",
        "price_data = history['Close'].values\n",
        "train_data = price_data[:int(0.9*len(price_data))]\n",
        "test_data = price_data[int(0.9*len(price_data)):]\n",
        "\n",
        "# Fit the ARIMA model\n",
        "model = ARIMA(train_data, order=(5,1,0))\n",
        "model_fit = model.fit()\n",
        "\n",
        "# Make prediction\n",
        "predictions = model_fit.predict(start=len(train_data), end=len(train_data)+len(test_data)-1, dynamic=False)\n",
        "\n",
        "# Calculate root mean squared error\n",
        "rmse = np.sqrt(((predictions - test_data) ** 2).mean())\n",
        "\n",
        "# Generate predictions for the next 7 days\n",
        "future_predictions = model_fit.predict(start=len(price_data), end=len(price_data)+6, dynamic=False)\n",
        "\n",
        "# Find the day with the lowest predicted price\n",
        "best_day_to_buy = np.argmin(future_predictions)\n",
        "\n",
        "print(f'RMSE: {rmse}')\n",
        "print(f'Best day to buy: {best_day_to_buy}')\n",
        "print(f'Predicted price on the best day to buy: {future_predictions[best_day_to_buy]}')"
      ]
    }
  ]
}